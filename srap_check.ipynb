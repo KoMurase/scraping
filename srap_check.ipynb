{
 "cells": [
  {
   "cell_type": "code",
   "execution_count": 1,
   "metadata": {},
   "outputs": [],
   "source": [
    "from selenium import webdriver\n",
    "from selenium.webdriver.common.keys import Keys as keys\n",
    "#from autotest_lib.client.common_lib.cros import chromedriver\n",
    "import urllib\n",
    "from bs4 import BeautifulSoup\n",
    "import csv\n",
    "path_w=r'C:\\Users\\mkou0\\Desktop\\HTML\\scrap_result.html'"
   ]
  },
  {
   "cell_type": "code",
   "execution_count": 2,
   "metadata": {},
   "outputs": [
    {
     "name": "stdout",
     "output_type": "stream",
     "text": [
      "<div class=\"content\">\n",
      "<span>\n",
      "<table class=\"data table\">\n",
      "<col span=\"1\" width=\"8%\"/>\n",
      "<col span=\"1\"/>\n",
      "<col span=\"1\" width=\"20%\"/>\n",
      "<col span=\"1\" width=\"25%\"/>\n",
      "<tr>\n",
      "<th>授業時間</th>\n",
      "<th>科目名</th>\n",
      "<th>教員名</th>\n",
      "<th>休講事由</th>\n",
      "</tr>\n",
      "<span><tr><td class=\"center\">２講時</td><td>コリア語会話初級１-1</td><td>李　裕淑</td><td></td></tr><tr><td class=\"center\">２講時</td><td>ハングル会話初級１-1</td><td>李　裕淑</td><td></td></tr><tr><td class=\"center\">２講時</td><td>スポーツ・パフォーマンス１-324</td><td>鷲谷　洋輔</td><td>学会</td></tr><tr><td class=\"center\">３講時</td><td>ファースト・イヤー・セミナー-31</td><td>鷲谷　洋輔</td><td>学会</td></tr><tr><td class=\"center\">３講時</td><td>複素解析-2</td><td>辻本　諭</td><td>出張</td></tr><tr><td class=\"center\">３講時</td><td>コリア語入門Ⅰ-1</td><td>李　裕淑</td><td></td></tr><tr><td class=\"center\">３講時</td><td>ハングル入門Ⅰ-1</td><td>李　裕淑</td><td></td></tr><tr><td class=\"center\">４講時</td><td>複素解析-1</td><td>辻本　諭</td><td>出張</td></tr><tr><td class=\"center\">４講時</td><td>コリア語インテンシヴⅠ-1</td><td>李　裕淑</td><td></td></tr><tr><td class=\"center\">４講時</td><td>ハングルインテンシヴⅠ-1</td><td>李　裕淑</td><td></td></tr><tr><td class=\"center\">５講時</td><td>ビジネス中国語ライティング</td><td>韓　軍</td><td>病気</td></tr></span>\n",
      "</table>\n",
      "</span>\n",
      "</div>\n"
     ]
    }
   ],
   "source": [
    "url=\"https://duet.doshisha.ac.jp/kokai/html/fi/fi050/FI05001G.html\"\n",
    "instance=urllib.request.urlopen(url)\n",
    "soup=BeautifulSoup(instance,\"html.parser\")\n",
    "get_words=soup.select_one(\"#form1 > div:nth-child(11) > div\")\n",
    "print(get_words)\n",
    "rows=get_words.find_all('tr')"
   ]
  },
  {
   "cell_type": "code",
   "execution_count": 6,
   "metadata": {},
   "outputs": [
    {
     "name": "stdout",
     "output_type": "stream",
     "text": [
      "[['病気']]\n"
     ]
    }
   ],
   "source": [
    "for tr in rows:\n",
    "    cols = tr.find_all('td')\n",
    "    for td in cols:\n",
    "        data=[[x] for x in td]\n",
    "        print(data)"
   ]
  },
  {
   "cell_type": "code",
   "execution_count": null,
   "metadata": {},
   "outputs": [],
   "source": []
  }
 ],
 "metadata": {
  "kernelspec": {
   "display_name": "Python 3",
   "language": "python",
   "name": "python3"
  },
  "language_info": {
   "codemirror_mode": {
    "name": "ipython",
    "version": 3
   },
   "file_extension": ".py",
   "mimetype": "text/x-python",
   "name": "python",
   "nbconvert_exporter": "python",
   "pygments_lexer": "ipython3",
   "version": "3.6.8"
  }
 },
 "nbformat": 4,
 "nbformat_minor": 2
}
